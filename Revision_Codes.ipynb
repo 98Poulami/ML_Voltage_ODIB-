{
  "nbformat": 4,
  "nbformat_minor": 0,
  "metadata": {
    "colab": {
      "provenance": []
    },
    "kernelspec": {
      "name": "python3",
      "display_name": "Python 3"
    },
    "language_info": {
      "name": "python"
    }
  },
  "cells": [
    {
      "cell_type": "code",
      "execution_count": 1,
      "metadata": {
        "colab": {
          "base_uri": "https://localhost:8080/"
        },
        "id": "7jvuSfTCw97o",
        "outputId": "e5938432-6306-4e15-940d-8c2e5d206665"
      },
      "outputs": [
        {
          "output_type": "execute_result",
          "data": {
            "text/plain": [
              "Index(['Cathode', 'Anode', 'Cations', 'CL', 'Anions', 'X', 'ECA', 'NC', 'NH',\n",
              "       'NF', 'MWCA', 'ENCA', 'IPCA', 'EAN', 'EM4AN', 'HE', 'LE', 'µ',\n",
              "       'Energy_of_EC', 'Energy_of_DMC', 'PS', 'ENS', 'MWS', 'PMAX', 'PMIN',\n",
              "       'ESS', 'Energy_of_anion_intercalated_Cathode', 'Voltage'],\n",
              "      dtype='object')"
            ]
          },
          "metadata": {},
          "execution_count": 1
        }
      ],
      "source": [
        "import pandas as pd\n",
        "dataset1 = pd.read_excel('/content/known_data_set.xlsx') # Upload the DFT generated known data with features\n",
        "print(dataset1.columns)"
      ]
    },
    {
      "cell_type": "code",
      "source": [
        "df0 = dataset1.drop(['Cathode', 'Anode', 'Cations', 'Anions','Energy_of_EC','Energy_of_DMC','Energy_of_anion_intercalated_Cathode'\n",
        ", 'ECA', 'EAN', 'EM4AN', 'ESS'], axis =1) # Drop the catagorical columns and some of the DFT generated features e.g.,  'Energy_of_EC','Energy_of_DMC' etc.\n",
        "print(df0.columns)"
      ],
      "metadata": {
        "colab": {
          "base_uri": "https://localhost:8080/"
        },
        "id": "nGMoO1llx1cD",
        "outputId": "c25bca41-f233-4049-8f68-5c0963c5cc4b"
      },
      "execution_count": null,
      "outputs": [
        {
          "output_type": "execute_result",
          "data": {
            "text/plain": [
              "Index(['CL', 'X', 'NC', 'NH', 'NF', 'MWCA', 'ENCA', 'IPCA', 'HE', 'LE', 'µ',\n",
              "       'PS', 'ENS', 'MWS', 'PMAX', 'PMIN', 'Voltage'],\n",
              "      dtype='object')"
            ]
          },
          "metadata": {},
          "execution_count": 2
        }
      ]
    },
    {
      "cell_type": "code",
      "source": [
        "# divided the dataset in x and y (x = features and y = target varibale (Voltage))\n",
        "x=df0.drop(['Voltage'], axis=1)\n",
        "y=df0['Voltage']"
      ],
      "metadata": {
        "id": "GA3Fnq5Ax5XC"
      },
      "execution_count": null,
      "outputs": []
    },
    {
      "cell_type": "markdown",
      "source": [
        "### Cross_validation"
      ],
      "metadata": {
        "id": "ixOsxVvJYXup"
      }
    },
    {
      "cell_type": "code",
      "source": [
        "from sklearn.ensemble import AdaBoostRegressor, GradientBoostingRegressor, RandomForestRegressor\n",
        "from sklearn.linear_model import ElasticNet, Lasso, Ridge,\n",
        "from sklearn.neighbors import KNeighborsRegressor\n",
        "from sklearn.kernel_ridge import KernelRidge\n",
        "from sklearn.cross_decomposition import PLSRegression\n",
        "from xgboost import XGBRegressor\n",
        "from sklearn.tree import DecisionTreeRegressor\n",
        "from sklearn.svm import SVR\n",
        "\n",
        "#IMPORTING CROSS VALIDATION TOOLS\n",
        "from sklearn.model_selection import KFold, cross_val_score, cross_val_predict, RandomizedSearchCV\n",
        "from sklearn.metrics import r2_score, mean_squared_error"
      ],
      "metadata": {
        "id": "veAqm0fbx99C"
      },
      "execution_count": null,
      "outputs": []
    },
    {
      "cell_type": "code",
      "source": [
        "# checking cross-validation performance with default parameters (K-fold CV, Repeated-K-Fold CV, and LOOCV)\n",
        "abr = AdaBoostRegressor(random_state=42)\n",
        "enr = ElasticNet(random_state=42)\n",
        "gbr = GradientBoostingRegressor(random_state=42)\n",
        "knr = KNeighborsRegressor()\n",
        "krr = KernelRidge()\n",
        "ls = Lasso(random_state=42)\n",
        "pls = PLSRegression()\n",
        "rfr = RandomForestRegressor(random_state=42)\n",
        "rr = Ridge(random_state=42)\n",
        "xgbr = XGBRegressor()\n",
        "svr = SVR()\n",
        "dtr = DecisionTreeRegressor(random_state=42)\n",
        "\n",
        "models = {\n",
        "    'ABR': abr,\n",
        "    'ENR': enr,\n",
        "    'GBR': gbr,\n",
        "    'KNR': knr,\n",
        "    'KRR': krr,\n",
        "    'LS': ls,\n",
        "    'PLS': pls,\n",
        "    'RFR': rfr,\n",
        "    'RR': rr,\n",
        "    'XGBR': xgbr,\n",
        "    'SVR': svr,\n",
        "    'DTR': dtr\n",
        "}\n",
        "\n",
        "from sklearn.model_selection import cross_val_score, RepeatedKFold, LeaveOneOut, KFold\n",
        "import numpy as np\n",
        "from sklearn.metrics import mean_absolute_error, r2_score\n",
        "\n",
        "k_fold_mae = []\n",
        "R_k_fold_mae = []\n",
        "LOOCV_mae = []\n",
        "k_r2 = []\n",
        "R_k_r2 = []\n",
        "Models = []\n",
        "\n",
        "num_repetitions = 3\n",
        "num_folds = 10\n",
        "\n",
        "# Assuming you have already defined 'model' and 'train_x_norm' from the previous code\n",
        "\n",
        "for model_name, model in models.items():\n",
        "    Models.append(model_name)  # Append the model name\n",
        "    cv = KFold(n_splits=10, random_state=None)\n",
        "    k_mae_scores = cross_val_score(model, x, y, scoring='neg_mean_absolute_error', cv=cv, n_jobs=None)\n",
        "    k_r2_scores = cross_val_score(model, x, y, scoring='r2', cv=cv, n_jobs=None)\n",
        "    k_fold_mae.append(round(-np.mean(k_mae_scores), 2))\n",
        "    k_r2.append(round(np.mean(k_r2_scores), 2))\n",
        "\n",
        "\n",
        "    # Repeated K-fold-CV\n",
        "    rkf = RepeatedKFold(n_splits=num_folds, n_repeats=num_repetitions, random_state=None)\n",
        "    rk_mae_scores = cross_val_score(model, x, y, scoring='neg_mean_absolute_error', cv=rkf, n_jobs=None)\n",
        "    rk_r2_scores = cross_val_score(model, x, y, scoring='r2', cv=rkf, n_jobs=None)\n",
        "    R_k_fold_mae.append(round(-np.mean(rk_mae_scores), 2))\n",
        "    R_k_r2.append(round(np.mean(rk_r2_scores),2))\n",
        "\n",
        "    # LOOCV\n",
        "    loo = LeaveOneOut()\n",
        "    loocv_mae_scores = cross_val_score(model, x, y, scoring='neg_mean_absolute_error', cv=loo, n_jobs=None)\n",
        "    LOOCV_mae.append(round(-np.mean(loocv_mae_scores), 2))\n",
        "\n",
        "\n",
        "# create DataFrame\n",
        "cv_df = pd.DataFrame({'ML Models': Models,\n",
        "                      'K-Fold-MAE (V)': k_fold_mae,\n",
        "                      'R-K-Fold-MAE (V)': R_k_fold_mae,\n",
        "                      'LOOCV-MAE (V)': LOOCV_mae,\n",
        "                      'K-Fold-R2': k_r2,\n",
        "                      'R-K-Fold-R2': R_k_r2})\n",
        "\n",
        "\n",
        "cv_df.to_excel('default_CV_df.xlsx', index=False)\n",
        "print(cv_df)"
      ],
      "metadata": {
        "colab": {
          "base_uri": "https://localhost:8080/"
        },
        "id": "7J6IN_JZyDAS",
        "outputId": "380c96f5-ebb6-4404-fb3f-d2bcfdb4ca83"
      },
      "execution_count": null,
      "outputs": [
        {
          "output_type": "execute_result",
          "data": {
            "text/plain": [
              "   ML Models  K-Fold-MAE (V)  R-K-Fold-MAE (V)  LOOCV-MAE (V)  K-Fold-R2  \\\n",
              "0        ABR            0.47              0.33           0.32       0.16   \n",
              "1        ENR            0.96              0.90           0.90      -1.60   \n",
              "2        GBR            0.39              0.16           0.16       0.42   \n",
              "3        KNR            0.55              0.52           0.48       0.02   \n",
              "4        KRR            0.49              0.45           0.44       0.16   \n",
              "5         LS            0.96              0.90           0.90      -1.61   \n",
              "6        PLS            0.50              0.48           0.48       0.14   \n",
              "7        RFR            0.42              0.12           0.12       0.29   \n",
              "8         RR            0.49              0.45           0.44       0.16   \n",
              "9       XGBR            0.35              0.05           0.04       0.40   \n",
              "10       SVR            0.98              0.89           0.89      -1.65   \n",
              "11       DTR            0.47              0.15           0.13       0.04   \n",
              "\n",
              "    R-K-Fold-R2  \n",
              "0          0.86  \n",
              "1          0.02  \n",
              "2          0.96  \n",
              "3          0.60  \n",
              "4          0.73  \n",
              "5          0.01  \n",
              "6          0.70  \n",
              "7          0.97  \n",
              "8          0.73  \n",
              "9          1.00  \n",
              "10        -0.01  \n",
              "11         0.95  "
            ],
            "text/html": [
              "\n",
              "  <div id=\"df-a29c40ab-9cfc-4646-bedf-9eeac92e9863\" class=\"colab-df-container\">\n",
              "    <div>\n",
              "<style scoped>\n",
              "    .dataframe tbody tr th:only-of-type {\n",
              "        vertical-align: middle;\n",
              "    }\n",
              "\n",
              "    .dataframe tbody tr th {\n",
              "        vertical-align: top;\n",
              "    }\n",
              "\n",
              "    .dataframe thead th {\n",
              "        text-align: right;\n",
              "    }\n",
              "</style>\n",
              "<table border=\"1\" class=\"dataframe\">\n",
              "  <thead>\n",
              "    <tr style=\"text-align: right;\">\n",
              "      <th></th>\n",
              "      <th>ML Models</th>\n",
              "      <th>K-Fold-MAE (V)</th>\n",
              "      <th>R-K-Fold-MAE (V)</th>\n",
              "      <th>LOOCV-MAE (V)</th>\n",
              "      <th>K-Fold-R2</th>\n",
              "      <th>R-K-Fold-R2</th>\n",
              "    </tr>\n",
              "  </thead>\n",
              "  <tbody>\n",
              "    <tr>\n",
              "      <th>0</th>\n",
              "      <td>ABR</td>\n",
              "      <td>0.47</td>\n",
              "      <td>0.33</td>\n",
              "      <td>0.32</td>\n",
              "      <td>0.16</td>\n",
              "      <td>0.86</td>\n",
              "    </tr>\n",
              "    <tr>\n",
              "      <th>1</th>\n",
              "      <td>ENR</td>\n",
              "      <td>0.96</td>\n",
              "      <td>0.90</td>\n",
              "      <td>0.90</td>\n",
              "      <td>-1.60</td>\n",
              "      <td>0.02</td>\n",
              "    </tr>\n",
              "    <tr>\n",
              "      <th>2</th>\n",
              "      <td>GBR</td>\n",
              "      <td>0.39</td>\n",
              "      <td>0.16</td>\n",
              "      <td>0.16</td>\n",
              "      <td>0.42</td>\n",
              "      <td>0.96</td>\n",
              "    </tr>\n",
              "    <tr>\n",
              "      <th>3</th>\n",
              "      <td>KNR</td>\n",
              "      <td>0.55</td>\n",
              "      <td>0.52</td>\n",
              "      <td>0.48</td>\n",
              "      <td>0.02</td>\n",
              "      <td>0.60</td>\n",
              "    </tr>\n",
              "    <tr>\n",
              "      <th>4</th>\n",
              "      <td>KRR</td>\n",
              "      <td>0.49</td>\n",
              "      <td>0.45</td>\n",
              "      <td>0.44</td>\n",
              "      <td>0.16</td>\n",
              "      <td>0.73</td>\n",
              "    </tr>\n",
              "    <tr>\n",
              "      <th>5</th>\n",
              "      <td>LS</td>\n",
              "      <td>0.96</td>\n",
              "      <td>0.90</td>\n",
              "      <td>0.90</td>\n",
              "      <td>-1.61</td>\n",
              "      <td>0.01</td>\n",
              "    </tr>\n",
              "    <tr>\n",
              "      <th>6</th>\n",
              "      <td>PLS</td>\n",
              "      <td>0.50</td>\n",
              "      <td>0.48</td>\n",
              "      <td>0.48</td>\n",
              "      <td>0.14</td>\n",
              "      <td>0.70</td>\n",
              "    </tr>\n",
              "    <tr>\n",
              "      <th>7</th>\n",
              "      <td>RFR</td>\n",
              "      <td>0.42</td>\n",
              "      <td>0.12</td>\n",
              "      <td>0.12</td>\n",
              "      <td>0.29</td>\n",
              "      <td>0.97</td>\n",
              "    </tr>\n",
              "    <tr>\n",
              "      <th>8</th>\n",
              "      <td>RR</td>\n",
              "      <td>0.49</td>\n",
              "      <td>0.45</td>\n",
              "      <td>0.44</td>\n",
              "      <td>0.16</td>\n",
              "      <td>0.73</td>\n",
              "    </tr>\n",
              "    <tr>\n",
              "      <th>9</th>\n",
              "      <td>XGBR</td>\n",
              "      <td>0.35</td>\n",
              "      <td>0.05</td>\n",
              "      <td>0.04</td>\n",
              "      <td>0.40</td>\n",
              "      <td>1.00</td>\n",
              "    </tr>\n",
              "    <tr>\n",
              "      <th>10</th>\n",
              "      <td>SVR</td>\n",
              "      <td>0.98</td>\n",
              "      <td>0.89</td>\n",
              "      <td>0.89</td>\n",
              "      <td>-1.65</td>\n",
              "      <td>-0.01</td>\n",
              "    </tr>\n",
              "    <tr>\n",
              "      <th>11</th>\n",
              "      <td>DTR</td>\n",
              "      <td>0.47</td>\n",
              "      <td>0.15</td>\n",
              "      <td>0.13</td>\n",
              "      <td>0.04</td>\n",
              "      <td>0.95</td>\n",
              "    </tr>\n",
              "  </tbody>\n",
              "</table>\n",
              "</div>\n",
              "    <div class=\"colab-df-buttons\">\n",
              "\n",
              "  <div class=\"colab-df-container\">\n",
              "    <button class=\"colab-df-convert\" onclick=\"convertToInteractive('df-a29c40ab-9cfc-4646-bedf-9eeac92e9863')\"\n",
              "            title=\"Convert this dataframe to an interactive table.\"\n",
              "            style=\"display:none;\">\n",
              "\n",
              "  <svg xmlns=\"http://www.w3.org/2000/svg\" height=\"24px\" viewBox=\"0 -960 960 960\">\n",
              "    <path d=\"M120-120v-720h720v720H120Zm60-500h600v-160H180v160Zm220 220h160v-160H400v160Zm0 220h160v-160H400v160ZM180-400h160v-160H180v160Zm440 0h160v-160H620v160ZM180-180h160v-160H180v160Zm440 0h160v-160H620v160Z\"/>\n",
              "  </svg>\n",
              "    </button>\n",
              "\n",
              "  <style>\n",
              "    .colab-df-container {\n",
              "      display:flex;\n",
              "      gap: 12px;\n",
              "    }\n",
              "\n",
              "    .colab-df-convert {\n",
              "      background-color: #E8F0FE;\n",
              "      border: none;\n",
              "      border-radius: 50%;\n",
              "      cursor: pointer;\n",
              "      display: none;\n",
              "      fill: #1967D2;\n",
              "      height: 32px;\n",
              "      padding: 0 0 0 0;\n",
              "      width: 32px;\n",
              "    }\n",
              "\n",
              "    .colab-df-convert:hover {\n",
              "      background-color: #E2EBFA;\n",
              "      box-shadow: 0px 1px 2px rgba(60, 64, 67, 0.3), 0px 1px 3px 1px rgba(60, 64, 67, 0.15);\n",
              "      fill: #174EA6;\n",
              "    }\n",
              "\n",
              "    .colab-df-buttons div {\n",
              "      margin-bottom: 4px;\n",
              "    }\n",
              "\n",
              "    [theme=dark] .colab-df-convert {\n",
              "      background-color: #3B4455;\n",
              "      fill: #D2E3FC;\n",
              "    }\n",
              "\n",
              "    [theme=dark] .colab-df-convert:hover {\n",
              "      background-color: #434B5C;\n",
              "      box-shadow: 0px 1px 3px 1px rgba(0, 0, 0, 0.15);\n",
              "      filter: drop-shadow(0px 1px 2px rgba(0, 0, 0, 0.3));\n",
              "      fill: #FFFFFF;\n",
              "    }\n",
              "  </style>\n",
              "\n",
              "    <script>\n",
              "      const buttonEl =\n",
              "        document.querySelector('#df-a29c40ab-9cfc-4646-bedf-9eeac92e9863 button.colab-df-convert');\n",
              "      buttonEl.style.display =\n",
              "        google.colab.kernel.accessAllowed ? 'block' : 'none';\n",
              "\n",
              "      async function convertToInteractive(key) {\n",
              "        const element = document.querySelector('#df-a29c40ab-9cfc-4646-bedf-9eeac92e9863');\n",
              "        const dataTable =\n",
              "          await google.colab.kernel.invokeFunction('convertToInteractive',\n",
              "                                                    [key], {});\n",
              "        if (!dataTable) return;\n",
              "\n",
              "        const docLinkHtml = 'Like what you see? Visit the ' +\n",
              "          '<a target=\"_blank\" href=https://colab.research.google.com/notebooks/data_table.ipynb>data table notebook</a>'\n",
              "          + ' to learn more about interactive tables.';\n",
              "        element.innerHTML = '';\n",
              "        dataTable['output_type'] = 'display_data';\n",
              "        await google.colab.output.renderOutput(dataTable, element);\n",
              "        const docLink = document.createElement('div');\n",
              "        docLink.innerHTML = docLinkHtml;\n",
              "        element.appendChild(docLink);\n",
              "      }\n",
              "    </script>\n",
              "  </div>\n",
              "\n",
              "\n",
              "    <div id=\"df-9d0aec7a-307a-4cdd-b076-f25a7ad1b842\">\n",
              "      <button class=\"colab-df-quickchart\" onclick=\"quickchart('df-9d0aec7a-307a-4cdd-b076-f25a7ad1b842')\"\n",
              "                title=\"Suggest charts\"\n",
              "                style=\"display:none;\">\n",
              "\n",
              "<svg xmlns=\"http://www.w3.org/2000/svg\" height=\"24px\"viewBox=\"0 0 24 24\"\n",
              "     width=\"24px\">\n",
              "    <g>\n",
              "        <path d=\"M19 3H5c-1.1 0-2 .9-2 2v14c0 1.1.9 2 2 2h14c1.1 0 2-.9 2-2V5c0-1.1-.9-2-2-2zM9 17H7v-7h2v7zm4 0h-2V7h2v10zm4 0h-2v-4h2v4z\"/>\n",
              "    </g>\n",
              "</svg>\n",
              "      </button>\n",
              "\n",
              "<style>\n",
              "  .colab-df-quickchart {\n",
              "      --bg-color: #E8F0FE;\n",
              "      --fill-color: #1967D2;\n",
              "      --hover-bg-color: #E2EBFA;\n",
              "      --hover-fill-color: #174EA6;\n",
              "      --disabled-fill-color: #AAA;\n",
              "      --disabled-bg-color: #DDD;\n",
              "  }\n",
              "\n",
              "  [theme=dark] .colab-df-quickchart {\n",
              "      --bg-color: #3B4455;\n",
              "      --fill-color: #D2E3FC;\n",
              "      --hover-bg-color: #434B5C;\n",
              "      --hover-fill-color: #FFFFFF;\n",
              "      --disabled-bg-color: #3B4455;\n",
              "      --disabled-fill-color: #666;\n",
              "  }\n",
              "\n",
              "  .colab-df-quickchart {\n",
              "    background-color: var(--bg-color);\n",
              "    border: none;\n",
              "    border-radius: 50%;\n",
              "    cursor: pointer;\n",
              "    display: none;\n",
              "    fill: var(--fill-color);\n",
              "    height: 32px;\n",
              "    padding: 0;\n",
              "    width: 32px;\n",
              "  }\n",
              "\n",
              "  .colab-df-quickchart:hover {\n",
              "    background-color: var(--hover-bg-color);\n",
              "    box-shadow: 0 1px 2px rgba(60, 64, 67, 0.3), 0 1px 3px 1px rgba(60, 64, 67, 0.15);\n",
              "    fill: var(--button-hover-fill-color);\n",
              "  }\n",
              "\n",
              "  .colab-df-quickchart-complete:disabled,\n",
              "  .colab-df-quickchart-complete:disabled:hover {\n",
              "    background-color: var(--disabled-bg-color);\n",
              "    fill: var(--disabled-fill-color);\n",
              "    box-shadow: none;\n",
              "  }\n",
              "\n",
              "  .colab-df-spinner {\n",
              "    border: 2px solid var(--fill-color);\n",
              "    border-color: transparent;\n",
              "    border-bottom-color: var(--fill-color);\n",
              "    animation:\n",
              "      spin 1s steps(1) infinite;\n",
              "  }\n",
              "\n",
              "  @keyframes spin {\n",
              "    0% {\n",
              "      border-color: transparent;\n",
              "      border-bottom-color: var(--fill-color);\n",
              "      border-left-color: var(--fill-color);\n",
              "    }\n",
              "    20% {\n",
              "      border-color: transparent;\n",
              "      border-left-color: var(--fill-color);\n",
              "      border-top-color: var(--fill-color);\n",
              "    }\n",
              "    30% {\n",
              "      border-color: transparent;\n",
              "      border-left-color: var(--fill-color);\n",
              "      border-top-color: var(--fill-color);\n",
              "      border-right-color: var(--fill-color);\n",
              "    }\n",
              "    40% {\n",
              "      border-color: transparent;\n",
              "      border-right-color: var(--fill-color);\n",
              "      border-top-color: var(--fill-color);\n",
              "    }\n",
              "    60% {\n",
              "      border-color: transparent;\n",
              "      border-right-color: var(--fill-color);\n",
              "    }\n",
              "    80% {\n",
              "      border-color: transparent;\n",
              "      border-right-color: var(--fill-color);\n",
              "      border-bottom-color: var(--fill-color);\n",
              "    }\n",
              "    90% {\n",
              "      border-color: transparent;\n",
              "      border-bottom-color: var(--fill-color);\n",
              "    }\n",
              "  }\n",
              "</style>\n",
              "\n",
              "      <script>\n",
              "        async function quickchart(key) {\n",
              "          const quickchartButtonEl =\n",
              "            document.querySelector('#' + key + ' button');\n",
              "          quickchartButtonEl.disabled = true;  // To prevent multiple clicks.\n",
              "          quickchartButtonEl.classList.add('colab-df-spinner');\n",
              "          try {\n",
              "            const charts = await google.colab.kernel.invokeFunction(\n",
              "                'suggestCharts', [key], {});\n",
              "          } catch (error) {\n",
              "            console.error('Error during call to suggestCharts:', error);\n",
              "          }\n",
              "          quickchartButtonEl.classList.remove('colab-df-spinner');\n",
              "          quickchartButtonEl.classList.add('colab-df-quickchart-complete');\n",
              "        }\n",
              "        (() => {\n",
              "          let quickchartButtonEl =\n",
              "            document.querySelector('#df-9d0aec7a-307a-4cdd-b076-f25a7ad1b842 button');\n",
              "          quickchartButtonEl.style.display =\n",
              "            google.colab.kernel.accessAllowed ? 'block' : 'none';\n",
              "        })();\n",
              "      </script>\n",
              "    </div>\n",
              "\n",
              "  <div id=\"id_790e3df5-ada1-4211-8467-876f842a5933\">\n",
              "    <style>\n",
              "      .colab-df-generate {\n",
              "        background-color: #E8F0FE;\n",
              "        border: none;\n",
              "        border-radius: 50%;\n",
              "        cursor: pointer;\n",
              "        display: none;\n",
              "        fill: #1967D2;\n",
              "        height: 32px;\n",
              "        padding: 0 0 0 0;\n",
              "        width: 32px;\n",
              "      }\n",
              "\n",
              "      .colab-df-generate:hover {\n",
              "        background-color: #E2EBFA;\n",
              "        box-shadow: 0px 1px 2px rgba(60, 64, 67, 0.3), 0px 1px 3px 1px rgba(60, 64, 67, 0.15);\n",
              "        fill: #174EA6;\n",
              "      }\n",
              "\n",
              "      [theme=dark] .colab-df-generate {\n",
              "        background-color: #3B4455;\n",
              "        fill: #D2E3FC;\n",
              "      }\n",
              "\n",
              "      [theme=dark] .colab-df-generate:hover {\n",
              "        background-color: #434B5C;\n",
              "        box-shadow: 0px 1px 3px 1px rgba(0, 0, 0, 0.15);\n",
              "        filter: drop-shadow(0px 1px 2px rgba(0, 0, 0, 0.3));\n",
              "        fill: #FFFFFF;\n",
              "      }\n",
              "    </style>\n",
              "    <button class=\"colab-df-generate\" onclick=\"generateWithVariable('cv_df')\"\n",
              "            title=\"Generate code using this dataframe.\"\n",
              "            style=\"display:none;\">\n",
              "\n",
              "  <svg xmlns=\"http://www.w3.org/2000/svg\" height=\"24px\"viewBox=\"0 0 24 24\"\n",
              "       width=\"24px\">\n",
              "    <path d=\"M7,19H8.4L18.45,9,17,7.55,7,17.6ZM5,21V16.75L18.45,3.32a2,2,0,0,1,2.83,0l1.4,1.43a1.91,1.91,0,0,1,.58,1.4,1.91,1.91,0,0,1-.58,1.4L9.25,21ZM18.45,9,17,7.55Zm-12,3A5.31,5.31,0,0,0,4.9,8.1,5.31,5.31,0,0,0,1,6.5,5.31,5.31,0,0,0,4.9,4.9,5.31,5.31,0,0,0,6.5,1,5.31,5.31,0,0,0,8.1,4.9,5.31,5.31,0,0,0,12,6.5,5.46,5.46,0,0,0,6.5,12Z\"/>\n",
              "  </svg>\n",
              "    </button>\n",
              "    <script>\n",
              "      (() => {\n",
              "      const buttonEl =\n",
              "        document.querySelector('#id_790e3df5-ada1-4211-8467-876f842a5933 button.colab-df-generate');\n",
              "      buttonEl.style.display =\n",
              "        google.colab.kernel.accessAllowed ? 'block' : 'none';\n",
              "\n",
              "      buttonEl.onclick = () => {\n",
              "        google.colab.notebook.generateWithVariable('cv_df');\n",
              "      }\n",
              "      })();\n",
              "    </script>\n",
              "  </div>\n",
              "\n",
              "    </div>\n",
              "  </div>\n"
            ],
            "application/vnd.google.colaboratory.intrinsic+json": {
              "type": "dataframe",
              "variable_name": "cv_df",
              "summary": "{\n  \"name\": \"cv_df\",\n  \"rows\": 12,\n  \"fields\": [\n    {\n      \"column\": \"ML Models\",\n      \"properties\": {\n        \"dtype\": \"string\",\n        \"num_unique_values\": 12,\n        \"samples\": [\n          \"SVR\",\n          \"XGBR\",\n          \"ABR\"\n        ],\n        \"semantic_type\": \"\",\n        \"description\": \"\"\n      }\n    },\n    {\n      \"column\": \"K-Fold-MAE (V)\",\n      \"properties\": {\n        \"dtype\": \"number\",\n        \"std\": 0.2356213577807076,\n        \"min\": 0.35,\n        \"max\": 0.98,\n        \"num_unique_values\": 9,\n        \"samples\": [\n          0.35,\n          0.96,\n          0.5\n        ],\n        \"semantic_type\": \"\",\n        \"description\": \"\"\n      }\n    },\n    {\n      \"column\": \"R-K-Fold-MAE (V)\",\n      \"properties\": {\n        \"dtype\": \"number\",\n        \"std\": 0.310688385246814,\n        \"min\": 0.05,\n        \"max\": 0.9,\n        \"num_unique_values\": 10,\n        \"samples\": [\n          0.89,\n          0.9,\n          0.48\n        ],\n        \"semantic_type\": \"\",\n        \"description\": \"\"\n      }\n    },\n    {\n      \"column\": \"LOOCV-MAE (V)\",\n      \"properties\": {\n        \"dtype\": \"number\",\n        \"std\": 0.31336395723977206,\n        \"min\": 0.04,\n        \"max\": 0.9,\n        \"num_unique_values\": 9,\n        \"samples\": [\n          0.89,\n          0.9,\n          0.12\n        ],\n        \"semantic_type\": \"\",\n        \"description\": \"\"\n      }\n    },\n    {\n      \"column\": \"K-Fold-R2\",\n      \"properties\": {\n        \"dtype\": \"number\",\n        \"std\": 0.8316517882922497,\n        \"min\": -1.65,\n        \"max\": 0.42,\n        \"num_unique_values\": 10,\n        \"samples\": [\n          -1.65,\n          -1.6,\n          0.14\n        ],\n        \"semantic_type\": \"\",\n        \"description\": \"\"\n      }\n    },\n    {\n      \"column\": \"R-K-Fold-R2\",\n      \"properties\": {\n        \"dtype\": \"number\",\n        \"std\": 0.3941004332846534,\n        \"min\": -0.01,\n        \"max\": 1.0,\n        \"num_unique_values\": 11,\n        \"samples\": [\n          0.01,\n          0.86,\n          -0.01\n        ],\n        \"semantic_type\": \"\",\n        \"description\": \"\"\n      }\n    }\n  ]\n}"
            }
          },
          "metadata": {},
          "execution_count": 6
        }
      ]
    },
    {
      "cell_type": "markdown",
      "source": [
        "We have choosen GBR, RFR, XGBR, DTR ML models for hyperparameter tuning as these models are showing less error in voltage prediction compared to other ML models"
      ],
      "metadata": {
        "id": "DDigFOiV62pK"
      }
    },
    {
      "cell_type": "markdown",
      "source": [
        "### Data Leakage Analysis"
      ],
      "metadata": {
        "id": "KY1A4I2sYa6b"
      }
    },
    {
      "cell_type": "code",
      "source": [
        "from xgboost import XGBRegressor\n",
        "from sklearn.model_selection import GridSearchCV, train_test_split\n",
        "from sklearn.metrics import mean_absolute_error, r2_score\n",
        "import numpy as np\n",
        "import pandas as pd\n",
        "\n",
        "df = pd.read_excel('known_data_set.xlsx')\n",
        "df1 = df.drop(['Cathode', 'Anode', 'Cations', 'Anions','Energy_of_EC','Energy_of_DMC','Energy_of_anion_intercalated_Cathode', 'ECA', 'EAN', 'EM4AN', 'ESS'], axis =1)\n",
        "x = df1.drop(['Voltage'], axis=1)\n",
        "y = df1['Voltage']\n",
        "\n",
        "\n",
        "x_train, x_test, y_train, y_test = train_test_split(x, y, test_size=0.2, random_state=42) # divided the dataset into 80% train and 20% test"
      ],
      "metadata": {
        "id": "MVC8D_DV7xpE"
      },
      "execution_count": 2,
      "outputs": []
    },
    {
      "cell_type": "code",
      "source": [
        "# Count the number of duplicated rows\n",
        "num_duplicates = df1.duplicated().sum()\n",
        "print(f\"Number of duplicated rows in df1: {num_duplicates}\")"
      ],
      "metadata": {
        "colab": {
          "base_uri": "https://localhost:8080/"
        },
        "id": "YXQefwBS7xjd",
        "outputId": "87687011-9086-43c2-8120-cc082cf1fc28"
      },
      "execution_count": 3,
      "outputs": [
        {
          "output_type": "stream",
          "name": "stdout",
          "text": [
            "Number of duplicated rows in df1: 0\n"
          ]
        }
      ]
    },
    {
      "cell_type": "code",
      "source": [
        "# Combine x and y back to compare full rows\n",
        "train_data = x_train.copy()\n",
        "train_data['target'] = y_train.values\n",
        "\n",
        "test_data = x_test.copy()\n",
        "test_data['target'] = y_test.values\n",
        "\n",
        "# Check for overlap\n",
        "leakage_rows = pd.merge(train_data, test_data, on=list(train_data.columns), how='inner')\n",
        "print(f\"Number of overlapping rows between train and test sets: {len(leakage_rows)}\")\n"
      ],
      "metadata": {
        "colab": {
          "base_uri": "https://localhost:8080/"
        },
        "id": "JesGop5j8wdW",
        "outputId": "24fff68e-41ef-4ae7-dc38-0c6d02f5555e"
      },
      "execution_count": 4,
      "outputs": [
        {
          "output_type": "stream",
          "name": "stdout",
          "text": [
            "Number of overlapping rows between train and test sets: 0\n"
          ]
        }
      ]
    },
    {
      "cell_type": "code",
      "source": [
        "# Check overlap in just the feature space\n",
        "common_features = pd.merge(x_train, x_test, how='inner')\n",
        "print(f\"Number of overlapping feature rows between train and test sets: {len(common_features)}\")"
      ],
      "metadata": {
        "colab": {
          "base_uri": "https://localhost:8080/"
        },
        "id": "tXIKRHMz83au",
        "outputId": "cb9dbe9f-2bb2-46f6-956f-8eaee6e9da5f"
      },
      "execution_count": 5,
      "outputs": [
        {
          "output_type": "stream",
          "name": "stdout",
          "text": [
            "Number of overlapping feature rows between train and test sets: 0\n"
          ]
        }
      ]
    },
    {
      "cell_type": "markdown",
      "source": [
        "From the above analysis it is clear that there is no such data sample which is present both in training and testing set and thus avoding data leakage"
      ],
      "metadata": {
        "id": "S9h19vm885s2"
      }
    },
    {
      "cell_type": "markdown",
      "source": [
        "### XGBR_hyperparameter_tuning"
      ],
      "metadata": {
        "id": "KbksQftN9OSo"
      }
    },
    {
      "cell_type": "code",
      "source": [
        "from xgboost import XGBRegressor\n",
        "from sklearn.model_selection import GridSearchCV, train_test_split\n",
        "from sklearn.metrics import mean_absolute_error, r2_score\n",
        "import numpy as np\n",
        "import pandas as pd\n",
        "\n",
        "df = pd.read_excel('known_data_set.xlsx')\n",
        "df1 = df.drop(['Cathode', 'Anode', 'Cations', 'Anions','Energy_of_EC','Energy_of_DMC','Energy_of_anion_intercalated_Cathode', 'ECA', 'EAN', 'EM4AN', 'ESS'], axis =1)\n",
        "x = df1.drop(['Voltage'], axis=1)\n",
        "y = df1['Voltage']\n",
        "\n",
        "\n",
        "x_train, x_test, y_train, y_test = train_test_split(x, y, test_size=0.2, random_state=42) # divided the dataset into 80% train and 20% test\n",
        "\n",
        "# Define the model\n",
        "xgb = XGBRegressor(objective=\"reg:squarederror\", random_state=42) # fixed the random state for the reproducibility of the XGBR predicted result\n",
        "\n",
        "# Define the parameter grid\n",
        "param_grid = {\n",
        "    'n_estimators': [50, 100, 200, 300, 400, 500],\n",
        "\t  'learning_rate': [0.01, 0.05, 0.1, 0.2],\n",
        "    'max_depth': [3, 5, 7, 9],\n",
        "    'min_child_weight': [1, 3, 5, 7]\n",
        "}\n",
        "\n",
        "\n",
        "# Initialize GridSearchCV\n",
        "grid_search = GridSearchCV(\n",
        "    estimator=xgb,\n",
        "    param_grid=param_grid,\n",
        "    scoring='neg_mean_absolute_error',\n",
        "    cv=5,  # 5-fold cross-validation\n",
        "    verbose=2,  # Use all available cores\n",
        ")\n",
        "\n",
        "# Perform the grid search\n",
        "grid_search.fit(x_train, y_train)\n",
        "\n",
        "# Get the best parameters and score\n",
        "print(\"Best parameters found: \", grid_search.best_params_)\n",
        "print(\"Best cross-validation score: \", grid_search.best_score_)\n",
        "\n",
        "# Evaluate on the test set\n",
        "best_model = grid_search.best_estimator_\n",
        "train_pred = best_model.predict(x_train)\n",
        "y_pred = best_model.predict(x_test)\n",
        "train_mae = mean_absolute_error(y_train, train_pred)\n",
        "test_mae = mean_absolute_error(y_test, y_pred)\n",
        "\n",
        "train_R2 = r2_score(y_train, train_pred)\n",
        "test_R2 = r2_score(y_test, y_pred)\n",
        "print(f\"Test MAE: {test_mae}\")\n",
        "print(f\"Train MAE: {train_mae}\")\n",
        "print(f\"Test R2: {test_R2}\")\n",
        "print(f\"Train R2: {train_R2}\")"
      ],
      "metadata": {
        "id": "Dt-uTCcxyPLD"
      },
      "execution_count": null,
      "outputs": []
    },
    {
      "cell_type": "markdown",
      "source": [
        "### GBR_hyperparameter_tuning"
      ],
      "metadata": {
        "id": "CaB-A2AXigm6"
      }
    },
    {
      "cell_type": "code",
      "source": [
        "from sklearn.ensemble import GradientBoostingRegressor\n",
        "from sklearn.model_selection import GridSearchCV, train_test_split\n",
        "from sklearn.metrics import mean_absolute_error, r2_score\n",
        "import numpy as np\n",
        "import pandas as pd\n",
        "\n",
        "df = pd.read_excel('known_data_set.xlsx')\n",
        "df1 = df.drop(['Cathode', 'Anode', 'Cations', 'Anions','Energy_of_EC','Energy_of_DMC','Energy_of_anion_intercalated_Cathode', 'ECA', 'EAN', 'EM4AN', 'ESS'], axis =1)\n",
        "x = df1.drop(['Voltage'], axis=1)\n",
        "y = df1['Voltage']\n",
        "\n",
        "\n",
        "x_train, x_test, y_train, y_test = train_test_split(x, y, test_size=0.2, random_state=42)\n",
        "\n",
        "# Define the model\n",
        "gbr=GradientBoostingRegressor(random_state=42)\n",
        "\n",
        "# Define the parameter grid\n",
        "param_grid = {\n",
        "    'learning_rate': [0.01, 0.05, 0.1],\n",
        "    'n_estimators': [50, 100, 200],\n",
        "    'max_depth': [3, 5, 7],\n",
        "    'subsample': [0.5, 0.7, 1.0],\n",
        "    'min_samples_split': [2, 5, 10],\n",
        "    'min_samples_leaf': [1, 3, 5],\n",
        "    'max_features': [0.5, 0.7, 1.0]\n",
        "}\n",
        "# Initialize GridSearchCV\n",
        "grid_search = GridSearchCV(\n",
        "    estimator=gbr,\n",
        "    param_grid=param_grid,\n",
        "    scoring='neg_mean_absolute_error',\n",
        "    cv=5,  # 5-fold cross-validation\n",
        ")\n",
        "\n",
        "# Perform the grid search\n",
        "grid_search.fit(x_train, y_train)\n",
        "\n",
        "# Get the best parameters and score\n",
        "print(\"Best parameters found: \", grid_search.best_params_)\n",
        "print(\"Best cross-validation score: \", -grid_search.best_score_)\n",
        "\n",
        "# Evaluate on the test set\n",
        "best_model = grid_search.best_estimator_\n",
        "train_pred = best_model.predict(x_train)\n",
        "train_mae = mean_absolute_error(y_train, train_pred)\n",
        "y_pred = best_model.predict(x_test)\n",
        "test_mae = mean_absolute_error(y_test, y_pred)\n",
        "train_R2 = r2_score(y_train, train_pred)\n",
        "test_R2 = r2_score(y_test, y_pred)\n",
        "print(f\"Test MAE: {test_mae}\")\n",
        "print(f\"Traint MAE: {train_mae}\")\n",
        "print(f\"Test R2: {test_R2}\")\n",
        "print(f\"Train R2: {train_R2}\")"
      ],
      "metadata": {
        "colab": {
          "base_uri": "https://localhost:8080/"
        },
        "id": "YXRCUYzqgOtF",
        "outputId": "fbc9d8f0-9481-4d91-e96d-7471f0d43b76"
      },
      "execution_count": null,
      "outputs": [
        {
          "output_type": "stream",
          "name": "stdout",
          "text": [
            "Best parameters found:  {'learning_rate': 0.1, 'max_depth': 5, 'max_features': 1.0, 'min_samples_leaf': 3, 'min_samples_split': 10, 'n_estimators': 200, 'subsample': 0.7}\n",
            "Best cross-validation score:  0.04635427751608971\n",
            "Test MAE: 0.03862409908166959\n",
            "Traint MAE: 0.0179128302068933\n",
            "Test R2: 0.9973984776030778\n",
            "Train R2: 0.999537590352009\n"
          ]
        }
      ]
    },
    {
      "cell_type": "markdown",
      "source": [
        "### Parity Plot for XGBR"
      ],
      "metadata": {
        "id": "LxHRqlUsrfRq"
      }
    },
    {
      "cell_type": "code",
      "source": [
        "import pandas as pd\n",
        "df=pd.read_excel('/content/known_data_set.xlsx')\n",
        "from sklearn.model_selection import train_test_split\n",
        "x=df.drop(['Voltage'],axis=1)\n",
        "y=df['Voltage']\n",
        "x_train_a, x_test_a, y_train, y_test = train_test_split(x, y, test_size=0.2, random_state=42)\n",
        "x_train = x_train_a.drop(['Cathode', 'Anode', 'Cations', 'Anions','Energy_of_EC','Energy_of_DMC','Energy_of_anion_intercalated_Cathode', 'ECA', 'EAN', 'EM4AN', 'ESS'], axis=1)\n",
        "x_test = x_test_a.drop(['Cathode', 'Anode', 'Cations', 'Anions','Energy_of_EC','Energy_of_DMC','Energy_of_anion_intercalated_Cathode', 'ECA', 'EAN', 'EM4AN', 'ESS'], axis=1)\n",
        "from xgboost import XGBRegressor\n",
        "xgbr=XGBRegressor(learning_rate = 0.2, max_depth = 3, min_child_weight = 7, n_estimators = 500, random_state = 42)\n",
        "xgbr.fit(x_train, y_train)\n",
        "train_pred=xgbr.predict(x_train)\n",
        "test_pred=xgbr.predict(x_test)\n",
        "from sklearn.metrics import mean_absolute_error, r2_score\n",
        "train_mae=mean_absolute_error(train_pred, y_train)\n",
        "test_mae=mean_absolute_error(test_pred, y_test)\n",
        "test_r2 = r2_score(y_test, test_pred)\n",
        "train_r2 = r2_score(y_train, train_pred)\n",
        "train_mae, test_mae, train_r2, test_r2"
      ],
      "metadata": {
        "colab": {
          "base_uri": "https://localhost:8080/"
        },
        "id": "IEDReBxFiuFI",
        "outputId": "b0d22c2a-1602-41c3-d1e2-cbaad6357f70"
      },
      "execution_count": null,
      "outputs": [
        {
          "output_type": "execute_result",
          "data": {
            "text/plain": [
              "(0.012522513621145759,\n",
              " 0.020549310698823292,\n",
              " 0.9997593391492781,\n",
              " 0.9992098963201697)"
            ]
          },
          "metadata": {},
          "execution_count": 1
        }
      ]
    },
    {
      "cell_type": "code",
      "source": [
        "x_train_a['Anions'].unique()"
      ],
      "metadata": {
        "colab": {
          "base_uri": "https://localhost:8080/"
        },
        "id": "e4zSESSdsj6H",
        "outputId": "f2c72366-a40a-412c-ee13-99e4114a6a1e"
      },
      "execution_count": null,
      "outputs": [
        {
          "output_type": "execute_result",
          "data": {
            "text/plain": [
              "array(['TFSI', 'Otf', 'FSI-CH3', 'BF4', 'ClO4', 'FTFSI', 'CH3-SO4', 'FSI',\n",
              "       'PF6'], dtype=object)"
            ]
          },
          "metadata": {},
          "execution_count": 2
        }
      ]
    },
    {
      "cell_type": "code",
      "source": [
        "x_test_a['Anions'].unique()"
      ],
      "metadata": {
        "colab": {
          "base_uri": "https://localhost:8080/"
        },
        "id": "CRIsNXQPs2i5",
        "outputId": "c582dc38-627a-4112-b1ad-8023719e74dc"
      },
      "execution_count": null,
      "outputs": [
        {
          "output_type": "execute_result",
          "data": {
            "text/plain": [
              "array(['FSI', 'Otf', 'ClO4', 'PF6', 'FSI-CH3', 'TFSI', 'CH3-SO4', 'FTFSI',\n",
              "       'BF4'], dtype=object)"
            ]
          },
          "metadata": {},
          "execution_count": 3
        }
      ]
    },
    {
      "cell_type": "code",
      "source": [
        "x_train_a['Voltage']=y_train\n",
        "x_train_a['ML_predicted_voltage(V)']=train_pred\n",
        "x_test_a['Voltage']=y_test\n",
        "x_test_a['ML_predicted_voltage(V)']=test_pred"
      ],
      "metadata": {
        "id": "W-4xSqyPs6NN"
      },
      "execution_count": null,
      "outputs": []
    },
    {
      "cell_type": "code",
      "source": [
        "Anions=list(x_train_a['Anions'].unique())\n",
        "len(Anions), Anions"
      ],
      "metadata": {
        "colab": {
          "base_uri": "https://localhost:8080/"
        },
        "id": "fkKAgk05s85W",
        "outputId": "25e69152-4399-48d7-a328-83b39bc3fa5f"
      },
      "execution_count": null,
      "outputs": [
        {
          "output_type": "execute_result",
          "data": {
            "text/plain": [
              "(9,\n",
              " ['TFSI', 'Otf', 'FSI-CH3', 'BF4', 'ClO4', 'FTFSI', 'CH3-SO4', 'FSI', 'PF6'])"
            ]
          },
          "metadata": {},
          "execution_count": 5
        }
      ]
    },
    {
      "cell_type": "code",
      "source": [
        "True_train_values= {}\n",
        "for a in x_train_a['Anions'].unique():\n",
        "  voltage_values=x_train_a.loc[x_train_a['Anions']==a,'Voltage'].tolist()\n",
        "  True_train_values[a]=voltage_values\n",
        "  True_train_values.keys()\n",
        "  final_True_train_values = dict(zip(Anions, list(True_train_values.values())))"
      ],
      "metadata": {
        "collapsed": true,
        "id": "kP28hmIgs_s3"
      },
      "execution_count": null,
      "outputs": []
    },
    {
      "cell_type": "code",
      "source": [
        "True_train_ML_values={}\n",
        "for a in x_train_a['Anions'].unique():\n",
        "  voltage_values=x_train_a.loc[x_train_a['Anions']==a, 'ML_predicted_voltage(V)'].tolist()\n",
        "  True_train_ML_values[a]=voltage_values\n",
        "  True_train_ML_values.keys()\n",
        "  final_True_train_ML_values= dict(zip(Anions, list(True_train_ML_values.values())))"
      ],
      "metadata": {
        "collapsed": true,
        "id": "MqQ_hZZltDOn"
      },
      "execution_count": null,
      "outputs": []
    },
    {
      "cell_type": "code",
      "source": [
        "Anion_Train = list(final_True_train_values.keys())\n",
        "Anion_Train"
      ],
      "metadata": {
        "colab": {
          "base_uri": "https://localhost:8080/"
        },
        "id": "ZZ8y5euctFzH",
        "outputId": "57ea11a0-2210-4e9b-ae7d-1afe0fcece62"
      },
      "execution_count": null,
      "outputs": [
        {
          "output_type": "execute_result",
          "data": {
            "text/plain": [
              "['TFSI', 'Otf', 'FSI-CH3', 'BF4', 'ClO4', 'FTFSI', 'CH3-SO4', 'FSI', 'PF6']"
            ]
          },
          "metadata": {},
          "execution_count": 8
        }
      ]
    },
    {
      "cell_type": "code",
      "source": [
        "True_test_values={}\n",
        "for a in x_test_a['Anions'].unique():\n",
        "  voltage_values=x_test_a.loc[x_test_a['Anions']==a, 'Voltage'].tolist()\n",
        "  True_test_values[a]=voltage_values\n",
        "  True_test_values.keys()\n",
        "  final_True_test_values=dict(zip(Anions,list(True_test_values.values())))"
      ],
      "metadata": {
        "collapsed": true,
        "id": "qFaA9O_VtJl3"
      },
      "execution_count": null,
      "outputs": []
    },
    {
      "cell_type": "code",
      "source": [
        "True_test_ML_values={}\n",
        "for a in x_test_a['Anions'].unique():\n",
        "  voltage_values=x_test_a.loc[x_test_a['Anions']==a, 'ML_predicted_voltage(V)'].tolist()\n",
        "  True_test_ML_values[a]=voltage_values\n",
        "  True_test_ML_values.keys()\n",
        "  final_true_test_ML_values=dict(zip(Anions,list(True_test_ML_values.values())))"
      ],
      "metadata": {
        "collapsed": true,
        "id": "NdX8PD_htLy-"
      },
      "execution_count": null,
      "outputs": []
    },
    {
      "cell_type": "code",
      "source": [
        "anion_test = list(final_True_test_values.keys())\n",
        "anion_test"
      ],
      "metadata": {
        "colab": {
          "base_uri": "https://localhost:8080/"
        },
        "id": "GUFv03PntPex",
        "outputId": "2e51fb3f-0996-4840-fc23-0b4bd46afa0b"
      },
      "execution_count": null,
      "outputs": [
        {
          "output_type": "execute_result",
          "data": {
            "text/plain": [
              "['TFSI', 'Otf', 'FSI-CH3', 'BF4', 'ClO4', 'FTFSI', 'CH3-SO4', 'FSI', 'PF6']"
            ]
          },
          "metadata": {},
          "execution_count": 11
        }
      ]
    },
    {
      "cell_type": "code",
      "source": [
        "import numpy as np\n",
        "regression_line = np.polyfit(y_train, train_pred, 1)\n",
        "regression_fn = np.poly1d(regression_line)\n",
        "regression_fn"
      ],
      "metadata": {
        "colab": {
          "base_uri": "https://localhost:8080/"
        },
        "id": "VWevCUT5tSIG",
        "outputId": "c8334125-0e54-4073-f49b-fe2bbb4f63f4"
      },
      "execution_count": null,
      "outputs": [
        {
          "output_type": "execute_result",
          "data": {
            "text/plain": [
              "poly1d([9.99527204e-01, 8.87968235e-04])"
            ]
          },
          "metadata": {},
          "execution_count": 12
        }
      ]
    },
    {
      "cell_type": "code",
      "source": [
        "import re\n",
        "import matplotlib.pyplot as plt\n",
        "import seaborn as sns\n",
        "\n",
        "# Set font weight for the plot\n",
        "plt.rcParams[\"font.weight\"] = \"bold\"\n",
        "plt.rcParams[\"axes.labelweight\"] = \"bold\"\n",
        "\n",
        "# Function to format chemical formulas: remove hyphens and add subscripts\n",
        "def format_chemical_formula(formula):\n",
        "    # Remove hyphens\n",
        "    formula_no_hyphen = formula.replace('-', '')\n",
        "    # Replace digits with LaTeX-style subscripts\n",
        "    return re.sub(r'(\\d+)', r'$_{\\1}$', formula_no_hyphen)\n",
        "\n",
        "# Create the figure and axis\n",
        "fig, ax = plt.subplots(figsize=(12, 10))\n",
        "\n",
        "# Plot true train values\n",
        "for j in Anion_Train:\n",
        "    formatted_label = f'{format_chemical_formula(j)} (Train)'\n",
        "    ax.scatter(\n",
        "        final_True_train_values[j],\n",
        "        True_train_ML_values[j],\n",
        "        label=formatted_label,\n",
        "        alpha=0.9,\n",
        "        s=200\n",
        "    )\n",
        "\n",
        "# Plot true test values\n",
        "for j in anion_test:\n",
        "    formatted_label = f'{format_chemical_formula(j)} (Test)'\n",
        "    ax.scatter(\n",
        "        final_True_test_values[j],\n",
        "        final_true_test_ML_values[j],\n",
        "        label=formatted_label,\n",
        "        alpha=0.9,\n",
        "        marker='s',\n",
        "        s=200\n",
        "    )\n",
        "\n",
        "# Add labels and title\n",
        "ax.set_xlabel('DFT Calculated Voltage (V)', fontsize=30)\n",
        "ax.set_ylabel('ML Predicted Voltage (V)', fontsize=30)\n",
        "\n",
        "# Customize ticks\n",
        "plt.xticks(fontsize=20)\n",
        "plt.yticks(fontsize=20)\n",
        "\n",
        "# Add legend\n",
        "ax.legend(fontsize=12, loc='lower right', ncol=2)\n",
        "\n",
        "# Plot regression line\n",
        "plt.plot(y_train, regression_fn(y_train), color='green', linestyle='--', label='Regression Line')\n",
        "\n",
        "# Add text annotations\n",
        "plt.text(-0.8, 4.3,\"Train MAE = 0.01 V\", weight='bold', fontsize = 20)\n",
        "plt.text(-0.8, 4.0,\"Test MAE = 0.02 V\", weight='bold', fontsize = 20)\n",
        "plt.text(-0.8, 3.7, \"Train $R^2$ = 1.00\", weight='bold', fontsize = 20)\n",
        "plt.text(-0.8, 3.4, \"Test $R^2$ = 1.00\", weight='bold', fontsize = 20)\n",
        "\n",
        "# Show the plot\n",
        "plt.show()\n",
        "\n",
        "# Save the figure\n",
        "# fig.savefig('gbr_scatter_voltage.png', dpi=700, bbox_inches=\"tight\", transparent=True)"
      ],
      "metadata": {
        "colab": {
          "base_uri": "https://localhost:8080/",
          "height": 892
        },
        "id": "J2UUKxxbtURf",
        "outputId": "6de3d3bb-ea36-4eb3-bc97-4b3382b1bf83"
      },
      "execution_count": null,
      "outputs": [
        {
          "output_type": "display_data",
          "data": {
            "text/plain": [
              "<Figure size 1200x1000 with 1 Axes>"
            ],
            "image/png": "[encoded data removed]"
          },
          "metadata": {}
        }
      ]
    },
    {
      "cell_type": "markdown",
      "source": [
        "### Parity plot for GBR"
      ],
      "metadata": {
        "id": "lnWkRP-0uJeO"
      }
    },
    {
      "cell_type": "code",
      "source": [
        "import pandas as pd\n",
        "df=pd.read_excel('/content/known_data_set.xlsx')\n",
        "from sklearn.model_selection import train_test_split\n",
        "x=df.drop(['Voltage'],axis=1)\n",
        "y=df['Voltage']\n",
        "x_train_a, x_test_a, y_train, y_test = train_test_split(x, y, test_size=0.2, random_state=42)\n",
        "x_train = x_train_a.drop(['Cathode', 'Anode', 'Cations', 'Anions','Energy_of_EC','Energy_of_DMC','Energy_of_anion_intercalated_Cathode'\n",
        ", 'ECA', 'EAN', 'EM4AN', 'ESS'], axis=1)\n",
        "x_test = x_test_a.drop(['Cathode', 'Anode', 'Cations', 'Anions','Energy_of_EC','Energy_of_DMC','Energy_of_anion_intercalated_Cathode'\n",
        ", 'ECA', 'EAN', 'EM4AN', 'ESS'], axis=1)\n",
        "from sklearn.metrics import mean_absolute_error, r2_score\n",
        "from sklearn.ensemble import GradientBoostingRegressor\n",
        "from sklearn.metrics import mean_absolute_error\n",
        "gbr=GradientBoostingRegressor(learning_rate = 0.1, max_depth = 5, max_features = 1.0, min_samples_leaf = 5, min_samples_split = 2, n_estimators = 200, subsample = 0.7,\n",
        "                              random_state = 42)\n",
        "gbr.fit(x_train, y_train)\n",
        "# make prediction with best parameters for a particular value of i\n",
        "train_pred = gbr.predict(x_train)\n",
        "test_pred = gbr.predict(x_test)\n",
        "\n",
        "gbr_best_MAE_train = mean_absolute_error(y_train, train_pred)\n",
        "gbr_best_MAE_test = mean_absolute_error(y_test, test_pred)\n",
        "\n",
        "\n",
        "gbr_best_r2_train = r2_score(y_train, train_pred)\n",
        "gbr_best_r2_test = r2_score(y_test, test_pred)\n",
        "print(gbr_best_MAE_train,gbr_best_MAE_test,gbr_best_r2_train,gbr_best_r2_test)"
      ],
      "metadata": {
        "colab": {
          "base_uri": "https://localhost:8080/"
        },
        "id": "Hvi2G5BWtfdo",
        "outputId": "d22a88fc-a562-4d37-ac38-e67ec18853c4"
      },
      "execution_count": null,
      "outputs": [
        {
          "output_type": "stream",
          "name": "stdout",
          "text": [
            "0.01964436839794715 0.038362516145163256 0.9994466990834783 0.9975705971961228\n"
          ]
        }
      ]
    },
    {
      "cell_type": "code",
      "source": [
        "x_train_a['Anions'].unique()"
      ],
      "metadata": {
        "colab": {
          "base_uri": "https://localhost:8080/"
        },
        "id": "oI24vxbvvTty",
        "outputId": "4d92b25e-2277-4466-d3ff-9469b00a7fa2"
      },
      "execution_count": null,
      "outputs": [
        {
          "output_type": "execute_result",
          "data": {
            "text/plain": [
              "array(['TFSI', 'Otf', 'FSI-CH3', 'BF4', 'ClO4', 'FTFSI', 'CH3-SO4', 'FSI',\n",
              "       'PF6'], dtype=object)"
            ]
          },
          "metadata": {},
          "execution_count": 18
        }
      ]
    },
    {
      "cell_type": "code",
      "source": [
        "x_test_a['Anions'].unique()"
      ],
      "metadata": {
        "colab": {
          "base_uri": "https://localhost:8080/"
        },
        "id": "gh3i68WQv3yV",
        "outputId": "0402d634-e6db-4711-dfec-de69beaa40dd"
      },
      "execution_count": null,
      "outputs": [
        {
          "output_type": "execute_result",
          "data": {
            "text/plain": [
              "array(['FSI', 'Otf', 'ClO4', 'PF6', 'FSI-CH3', 'TFSI', 'CH3-SO4', 'FTFSI',\n",
              "       'BF4'], dtype=object)"
            ]
          },
          "metadata": {},
          "execution_count": 19
        }
      ]
    },
    {
      "cell_type": "code",
      "source": [
        "x_train_a['Voltage']=y_train\n",
        "x_train_a['ML_predicted_voltage(V)']=train_pred\n",
        "x_test_a['Voltage']=y_test\n",
        "x_test_a['ML_predicted_voltage(V)']=test_pred"
      ],
      "metadata": {
        "id": "DF4pFJIfwESW"
      },
      "execution_count": null,
      "outputs": []
    },
    {
      "cell_type": "code",
      "source": [
        "Anions=list(x_train_a['Anions'].unique())\n",
        "len(Anions), Anions"
      ],
      "metadata": {
        "colab": {
          "base_uri": "https://localhost:8080/"
        },
        "id": "I8FjtOI1wGeF",
        "outputId": "4cadf372-92fc-4524-bbdb-291aba09e553"
      },
      "execution_count": null,
      "outputs": [
        {
          "output_type": "execute_result",
          "data": {
            "text/plain": [
              "(9,\n",
              " ['TFSI', 'Otf', 'FSI-CH3', 'BF4', 'ClO4', 'FTFSI', 'CH3-SO4', 'FSI', 'PF6'])"
            ]
          },
          "metadata": {},
          "execution_count": 21
        }
      ]
    },
    {
      "cell_type": "code",
      "source": [
        "True_train_values= {}\n",
        "for a in x_train_a['Anions'].unique():\n",
        "  voltage_values=x_train_a.loc[x_train_a['Anions']==a,'Voltage'].tolist()\n",
        "  True_train_values[a]=voltage_values\n",
        "  True_train_values.keys()\n",
        "  final_True_train_values = dict(zip(Anions, list(True_train_values.values())))"
      ],
      "metadata": {
        "collapsed": true,
        "id": "9z0c5tOXwIWc"
      },
      "execution_count": null,
      "outputs": []
    },
    {
      "cell_type": "code",
      "source": [
        "True_train_ML_values={}\n",
        "for a in x_train_a['Anions'].unique():\n",
        "  voltage_values=x_train_a.loc[x_train_a['Anions']==a, 'ML_predicted_voltage(V)'].tolist()\n",
        "  True_train_ML_values[a]=voltage_values\n",
        "  True_train_ML_values.keys()\n",
        "  final_True_train_ML_values= dict(zip(Anions, list(True_train_ML_values.values())))"
      ],
      "metadata": {
        "collapsed": true,
        "id": "fCErtCwAwKgW"
      },
      "execution_count": null,
      "outputs": []
    },
    {
      "cell_type": "code",
      "source": [
        "Anion_Train = list(final_True_train_values.keys())\n",
        "Anion_Train"
      ],
      "metadata": {
        "colab": {
          "base_uri": "https://localhost:8080/"
        },
        "id": "tnCOJjLAwNbN",
        "outputId": "a9d076c0-91cf-4612-f14a-f243c275fb28"
      },
      "execution_count": null,
      "outputs": [
        {
          "output_type": "execute_result",
          "data": {
            "text/plain": [
              "['TFSI', 'Otf', 'FSI-CH3', 'BF4', 'ClO4', 'FTFSI', 'CH3-SO4', 'FSI', 'PF6']"
            ]
          },
          "metadata": {},
          "execution_count": 24
        }
      ]
    },
    {
      "cell_type": "code",
      "source": [
        "True_test_values={}\n",
        "for a in x_test_a['Anions'].unique():\n",
        "  voltage_values=x_test_a.loc[x_test_a['Anions']==a, 'Voltage'].tolist()\n",
        "  True_test_values[a]=voltage_values\n",
        "  True_test_values.keys()\n",
        "  final_True_test_values=dict(zip(Anions,list(True_test_values.values())))"
      ],
      "metadata": {
        "collapsed": true,
        "id": "g91dct3IwP9G"
      },
      "execution_count": null,
      "outputs": []
    },
    {
      "cell_type": "code",
      "source": [
        "True_test_ML_values={}\n",
        "for a in x_test_a['Anions'].unique():\n",
        "  voltage_values=x_test_a.loc[x_test_a['Anions']==a, 'ML_predicted_voltage(V)'].tolist()\n",
        "  True_test_ML_values[a]=voltage_values\n",
        "  True_test_ML_values.keys()\n",
        "  final_true_test_ML_values=dict(zip(Anions,list(True_test_ML_values.values())))\n",
        "final_true_test_ML_values"
      ],
      "metadata": {
        "collapsed": true,
        "id": "45bprRf6wSYl"
      },
      "execution_count": null,
      "outputs": []
    },
    {
      "cell_type": "code",
      "source": [
        "anion_test = list(final_True_test_values.keys())\n",
        "anion_test"
      ],
      "metadata": {
        "colab": {
          "base_uri": "https://localhost:8080/"
        },
        "id": "98l_jrrCwVCU",
        "outputId": "1ebf5c09-5f3c-49bf-9e6f-ae9296568dc3"
      },
      "execution_count": null,
      "outputs": [
        {
          "output_type": "execute_result",
          "data": {
            "text/plain": [
              "['TFSI', 'Otf', 'FSI-CH3', 'BF4', 'ClO4', 'FTFSI', 'CH3-SO4', 'FSI', 'PF6']"
            ]
          },
          "metadata": {},
          "execution_count": 27
        }
      ]
    },
    {
      "cell_type": "code",
      "source": [
        "import numpy as np\n",
        "regression_line = np.polyfit(y_train, train_pred, 1)\n",
        "regression_fn = np.poly1d(regression_line)\n",
        "regression_fn"
      ],
      "metadata": {
        "colab": {
          "base_uri": "https://localhost:8080/"
        },
        "id": "HPHXuHx9wXbP",
        "outputId": "0e92570e-c919-49e4-844b-37c7248ab6bb"
      },
      "execution_count": null,
      "outputs": [
        {
          "output_type": "execute_result",
          "data": {
            "text/plain": [
              "poly1d([0.99826028, 0.00322085])"
            ]
          },
          "metadata": {},
          "execution_count": 28
        }
      ]
    },
    {
      "cell_type": "code",
      "source": [
        "import re\n",
        "import matplotlib.pyplot as plt\n",
        "import seaborn as sns\n",
        "\n",
        "# Set font weight for the plot\n",
        "plt.rcParams[\"font.weight\"] = \"bold\"\n",
        "plt.rcParams[\"axes.labelweight\"] = \"bold\"\n",
        "\n",
        "# Function to format chemical formulas: remove hyphens and add subscripts\n",
        "def format_chemical_formula(formula):\n",
        "    # Remove hyphens\n",
        "    formula_no_hyphen = formula.replace('-', '')\n",
        "    # Replace digits with LaTeX-style subscripts\n",
        "    return re.sub(r'(\\d+)', r'$_{\\1}$', formula_no_hyphen)\n",
        "\n",
        "# Create the figure and axis\n",
        "fig, ax = plt.subplots(figsize=(12, 10))\n",
        "\n",
        "# Plot true train values\n",
        "for j in Anion_Train:\n",
        "    formatted_label = f'{format_chemical_formula(j)} (Train)'\n",
        "    ax.scatter(\n",
        "        final_True_train_values[j],\n",
        "        True_train_ML_values[j],\n",
        "        label=formatted_label,\n",
        "        alpha=0.9,\n",
        "        s=200\n",
        "    )\n",
        "\n",
        "# Plot true test values\n",
        "for j in anion_test:\n",
        "    formatted_label = f'{format_chemical_formula(j)} (Test)'\n",
        "    ax.scatter(\n",
        "        final_True_test_values[j],\n",
        "        final_true_test_ML_values[j],\n",
        "        label=formatted_label,\n",
        "        alpha=0.9,\n",
        "        marker='s',\n",
        "        s=200\n",
        "    )\n",
        "\n",
        "# Add labels and title\n",
        "ax.set_xlabel('DFT Calculated Voltage (V)', fontsize=30)\n",
        "ax.set_ylabel('ML Predicted Voltage (V)', fontsize=30)\n",
        "\n",
        "# Customize ticks\n",
        "plt.xticks(fontsize=20)\n",
        "plt.yticks(fontsize=20)\n",
        "\n",
        "# Add legend\n",
        "ax.legend(fontsize=12, loc='lower right', ncol=2)\n",
        "\n",
        "# Plot regression line\n",
        "plt.plot(y_train, regression_fn(y_train), color='green', linestyle='--', label='Regression Line')\n",
        "\n",
        "# Add text annotations\n",
        "plt.text(-0.8, 4.3, \"Train MAE = 0.02 V\", weight='bold', fontsize=20)\n",
        "plt.text(-0.8, 4.0, \"Test MAE = 0.04 V\", weight='bold', fontsize=20)\n",
        "plt.text(-0.8, 3.7, \"Train $R^2$ = 1.00\", weight='bold', fontsize=20)\n",
        "plt.text(-0.8, 3.4, \"Test $R^2$ = 1.00\", weight='bold', fontsize=20)\n",
        "\n",
        "# Show the plot\n",
        "plt.show()\n",
        "\n",
        "# Save the figure\n",
        "# fig.savefig('gbr_scatter_voltage.png', dpi=700, bbox_inches=\"tight\", transparent=True)"
      ],
      "metadata": {
        "colab": {
          "base_uri": "https://localhost:8080/",
          "height": 892
        },
        "id": "Pj3pstG1waQ2",
        "outputId": "c0692cb5-94a7-483e-a64a-7382bf8ce54d"
      },
      "execution_count": null,
      "outputs": [
        {
          "output_type": "display_data",
          "data": {
            "text/plain": [
              "<Figure size 1200x1000 with 1 Axes>"
            ],
            "image/png": "[encoded data removed]"
          },
          "metadata": {}
        }
      ]
    },
    {
      "cell_type": "markdown",
      "source": [
        "### Prediction for Unknown dataset"
      ],
      "metadata": {
        "id": "qWxZDQKRwlG0"
      }
    },
    {
      "cell_type": "code",
      "source": [
        "import pandas as pd\n",
        "df0=pd.read_excel('/content/known_data_set.xlsx')\n",
        "df=df0.drop(['Cathode', 'Anode', 'Cations', 'Anions','Energy_of_EC','Energy_of_DMC','Energy_of_anion_intercalated_Cathode', 'ECA', 'EAN', 'EM4AN', 'ESS'], axis=1)\n",
        "x=df.drop(['Voltage'], axis=1)\n",
        "y=df['Voltage']\n",
        "from sklearn.model_selection import train_test_split\n",
        "x_train, x_test, y_train, y_test = train_test_split(x, y, test_size= 0.2, random_state=42)\n",
        "from xgboost import XGBRegressor\n",
        "xgbr=XGBRegressor(learning_rate = 0.2, max_depth = 3, min_child_weight = 7, n_estimators = 500)\n",
        "xgbr.fit(x_train, y_train)\n",
        "train_pred=xgbr.predict(x_train)\n",
        "test_pred=xgbr.predict(x_test)\n",
        "from sklearn.metrics import mean_absolute_error\n",
        "test_mae = mean_absolute_error(y_test,test_pred)\n",
        "train_mae = mean_absolute_error(y_train, train_pred)\n",
        "test_mae, train_mae"
      ],
      "metadata": {
        "colab": {
          "base_uri": "https://localhost:8080/"
        },
        "id": "xF02AHekwdzl",
        "outputId": "741b8ef4-b19d-4ec6-a05b-72919de5900f"
      },
      "execution_count": 6,
      "outputs": [
        {
          "output_type": "execute_result",
          "data": {
            "text/plain": [
              "(0.020549310698823292, 0.012522513621145759)"
            ]
          },
          "metadata": {},
          "execution_count": 6
        }
      ]
    },
    {
      "cell_type": "code",
      "source": [
        "# Prediction of volatge for unknown systems\n",
        "unknown_df = pd.read_excel('/content/Unknown_data_set.xlsx')\n",
        "unknown_df1 = unknown_df.drop(['Cathode', 'Anode', 'Cations', 'Anions'], axis =1)"
      ],
      "metadata": {
        "id": "A7u0irQMQ3-j"
      },
      "execution_count": 7,
      "outputs": []
    },
    {
      "cell_type": "code",
      "source": [
        "# Check for overlap\n",
        "leakage_rows = pd.merge(x, unknown_df1, on=list(x.columns), how='inner')\n",
        "print(f\"Number of overlapping rows between known and unknown sets: {len(leakage_rows)}\")"
      ],
      "metadata": {
        "colab": {
          "base_uri": "https://localhost:8080/"
        },
        "id": "zFNgEIeEQmoE",
        "outputId": "f8eb34c2-e203-4459-da9e-4ff11516012a"
      },
      "execution_count": 8,
      "outputs": [
        {
          "output_type": "stream",
          "name": "stdout",
          "text": [
            "Number of overlapping rows between known and unknown sets: 0\n"
          ]
        }
      ]
    },
    {
      "cell_type": "code",
      "source": [
        "# Prediction of volatge for unknown systems\n",
        "unknown_pred = xgbr.predict(unknown_df1)\n",
        "unknown_df['ML_predicted_voltage (V)'] = unknown_pred\n",
        "print(unknown_df)"
      ],
      "metadata": {
        "colab": {
          "base_uri": "https://localhost:8080/",
          "height": 423
        },
        "id": "U79TVEoTw3TZ",
        "outputId": "7f687259-021c-4fa6-a525-670eca63155e"
      },
      "execution_count": null,
      "outputs": [
        {
          "output_type": "execute_result",
          "data": {
            "text/plain": [
              "     Cathode  Anode Cations  CL   Anions  X  NC  NH  NF     MWCA  ...  \\\n",
              "0       DFTh      1       K   1      BF4  1  48  24   8  252.310  ...   \n",
              "1       DFTh      1       K   1      BF4  2  48  24   8  252.310  ...   \n",
              "2       DFTh      1       K   1      BF4  3  48  24   8  252.310  ...   \n",
              "3       DFTh      1       K   1  CH3-SO4  2  48  24   8  252.310  ...   \n",
              "4       DFTh      1       K   1  CH3-SO4  3  48  24   8  252.310  ...   \n",
              "...      ...    ...     ...  ..      ... ..  ..  ..  ..      ...  ...   \n",
              "6556      Th     27      Na   3      PF6  2  48  32   0  216.329  ...   \n",
              "6557      Th     27      Na   3      PF6  4  48  32   0  216.329  ...   \n",
              "6558      Th     27      Na   3     TFSI  2  48  32   0  216.329  ...   \n",
              "6559      Th     27      Na   3     TFSI  3  48  32   0  216.329  ...   \n",
              "6560      Th     27      Na   3     TFSI  4  48  32   0  216.329  ...   \n",
              "\n",
              "         IPCA      HE       LE       µ      PS    ENS         MWS      PMAX  \\\n",
              "0     272.274 -0.2063 -0.04449  1.8511  48.936  18.78  125.902912  0.673213   \n",
              "1     272.274 -0.2063 -0.04449  1.8511  48.936  18.78  125.902912  0.673213   \n",
              "2     272.274 -0.2063 -0.04449  1.8511  48.936  18.78  125.902912  0.673213   \n",
              "3     272.274 -0.2063 -0.04449  1.8511  53.372  26.31  150.196720  0.396582   \n",
              "4     272.274 -0.2063 -0.04449  1.8511  53.372  26.31  150.196720  0.396582   \n",
              "...       ...     ...      ...     ...     ...    ...         ...       ...   \n",
              "6556  264.624 -0.1871 -0.05755  0.0015  31.004  27.00  167.953948  0.623000   \n",
              "6557  264.624 -0.1871 -0.05755  0.0015  31.004  27.00  167.953948  0.623000   \n",
              "6558  264.624 -0.1871 -0.05755  0.0015  41.076  51.87  303.138526  0.480290   \n",
              "6559  264.624 -0.1871 -0.05755  0.0015  41.076  51.87  303.138526  0.480290   \n",
              "6560  264.624 -0.1871 -0.05755  0.0015  41.076  51.87  303.138526  0.480290   \n",
              "\n",
              "          PMIN  ML_predicted_voltage (V)  \n",
              "0    -0.418303                  2.469496  \n",
              "1    -0.418303                  2.016442  \n",
              "2    -0.418303                  2.352230  \n",
              "3    -0.263536                  1.875890  \n",
              "4    -0.263536                  1.925493  \n",
              "...        ...                       ...  \n",
              "6556 -0.104000                  3.212072  \n",
              "6557 -0.104000                  3.318505  \n",
              "6558 -0.420675                  2.393490  \n",
              "6559 -0.420675                  2.478343  \n",
              "6560 -0.420675                  2.571190  \n",
              "\n",
              "[6561 rows x 21 columns]"
            ],
            "text/html": [
              "\n",
              "  <div id=\"df-1607a5f4-9def-405b-860f-8d2c9c0ca881\" class=\"colab-df-container\">\n",
              "    <div>\n",
              "<style scoped>\n",
              "    .dataframe tbody tr th:only-of-type {\n",
              "        vertical-align: middle;\n",
              "    }\n",
              "\n",
              "    .dataframe tbody tr th {\n",
              "        vertical-align: top;\n",
              "    }\n",
              "\n",
              "    .dataframe thead th {\n",
              "        text-align: right;\n",
              "    }\n",
              "</style>\n",
              "<table border=\"1\" class=\"dataframe\">\n",
              "  <thead>\n",
              "    <tr style=\"text-align: right;\">\n",
              "      <th></th>\n",
              "      <th>Cathode</th>\n",
              "      <th>Anode</th>\n",
              "      <th>Cations</th>\n",
              "      <th>CL</th>\n",
              "      <th>Anions</th>\n",
              "      <th>X</th>\n",
              "      <th>NC</th>\n",
              "      <th>NH</th>\n",
              "      <th>NF</th>\n",
              "      <th>MWCA</th>\n",
              "      <th>...</th>\n",
              "      <th>IPCA</th>\n",
              "      <th>HE</th>\n",
              "      <th>LE</th>\n",
              "      <th>µ</th>\n",
              "      <th>PS</th>\n",
              "      <th>ENS</th>\n",
              "      <th>MWS</th>\n",
              "      <th>PMAX</th>\n",
              "      <th>PMIN</th>\n",
              "      <th>ML_predicted_voltage (V)</th>\n",
              "    </tr>\n",
              "  </thead>\n",
              "  <tbody>\n",
              "    <tr>\n",
              "      <th>0</th>\n",
              "      <td>DFTh</td>\n",
              "      <td>1</td>\n",
              "      <td>K</td>\n",
              "      <td>1</td>\n",
              "      <td>BF4</td>\n",
              "      <td>1</td>\n",
              "      <td>48</td>\n",
              "      <td>24</td>\n",
              "      <td>8</td>\n",
              "      <td>252.310</td>\n",
              "      <td>...</td>\n",
              "      <td>272.274</td>\n",
              "      <td>-0.2063</td>\n",
              "      <td>-0.04449</td>\n",
              "      <td>1.8511</td>\n",
              "      <td>48.936</td>\n",
              "      <td>18.78</td>\n",
              "      <td>125.902912</td>\n",
              "      <td>0.673213</td>\n",
              "      <td>-0.418303</td>\n",
              "      <td>2.469496</td>\n",
              "    </tr>\n",
              "    <tr>\n",
              "      <th>1</th>\n",
              "      <td>DFTh</td>\n",
              "      <td>1</td>\n",
              "      <td>K</td>\n",
              "      <td>1</td>\n",
              "      <td>BF4</td>\n",
              "      <td>2</td>\n",
              "      <td>48</td>\n",
              "      <td>24</td>\n",
              "      <td>8</td>\n",
              "      <td>252.310</td>\n",
              "      <td>...</td>\n",
              "      <td>272.274</td>\n",
              "      <td>-0.2063</td>\n",
              "      <td>-0.04449</td>\n",
              "      <td>1.8511</td>\n",
              "      <td>48.936</td>\n",
              "      <td>18.78</td>\n",
              "      <td>125.902912</td>\n",
              "      <td>0.673213</td>\n",
              "      <td>-0.418303</td>\n",
              "      <td>2.016442</td>\n",
              "    </tr>\n",
              "    <tr>\n",
              "      <th>2</th>\n",
              "      <td>DFTh</td>\n",
              "      <td>1</td>\n",
              "      <td>K</td>\n",
              "      <td>1</td>\n",
              "      <td>BF4</td>\n",
              "      <td>3</td>\n",
              "      <td>48</td>\n",
              "      <td>24</td>\n",
              "      <td>8</td>\n",
              "      <td>252.310</td>\n",
              "      <td>...</td>\n",
              "      <td>272.274</td>\n",
              "      <td>-0.2063</td>\n",
              "      <td>-0.04449</td>\n",
              "      <td>1.8511</td>\n",
              "      <td>48.936</td>\n",
              "      <td>18.78</td>\n",
              "      <td>125.902912</td>\n",
              "      <td>0.673213</td>\n",
              "      <td>-0.418303</td>\n",
              "      <td>2.352230</td>\n",
              "    </tr>\n",
              "    <tr>\n",
              "      <th>3</th>\n",
              "      <td>DFTh</td>\n",
              "      <td>1</td>\n",
              "      <td>K</td>\n",
              "      <td>1</td>\n",
              "      <td>CH3-SO4</td>\n",
              "      <td>2</td>\n",
              "      <td>48</td>\n",
              "      <td>24</td>\n",
              "      <td>8</td>\n",
              "      <td>252.310</td>\n",
              "      <td>...</td>\n",
              "      <td>272.274</td>\n",
              "      <td>-0.2063</td>\n",
              "      <td>-0.04449</td>\n",
              "      <td>1.8511</td>\n",
              "      <td>53.372</td>\n",
              "      <td>26.31</td>\n",
              "      <td>150.196720</td>\n",
              "      <td>0.396582</td>\n",
              "      <td>-0.263536</td>\n",
              "      <td>1.875890</td>\n",
              "    </tr>\n",
              "    <tr>\n",
              "      <th>4</th>\n",
              "      <td>DFTh</td>\n",
              "      <td>1</td>\n",
              "      <td>K</td>\n",
              "      <td>1</td>\n",
              "      <td>CH3-SO4</td>\n",
              "      <td>3</td>\n",
              "      <td>48</td>\n",
              "      <td>24</td>\n",
              "      <td>8</td>\n",
              "      <td>252.310</td>\n",
              "      <td>...</td>\n",
              "      <td>272.274</td>\n",
              "      <td>-0.2063</td>\n",
              "      <td>-0.04449</td>\n",
              "      <td>1.8511</td>\n",
              "      <td>53.372</td>\n",
              "      <td>26.31</td>\n",
              "      <td>150.196720</td>\n",
              "      <td>0.396582</td>\n",
              "      <td>-0.263536</td>\n",
              "      <td>1.925493</td>\n",
              "    </tr>\n",
              "    <tr>\n",
              "      <th>...</th>\n",
              "      <td>...</td>\n",
              "      <td>...</td>\n",
              "      <td>...</td>\n",
              "      <td>...</td>\n",
              "      <td>...</td>\n",
              "      <td>...</td>\n",
              "      <td>...</td>\n",
              "      <td>...</td>\n",
              "      <td>...</td>\n",
              "      <td>...</td>\n",
              "      <td>...</td>\n",
              "      <td>...</td>\n",
              "      <td>...</td>\n",
              "      <td>...</td>\n",
              "      <td>...</td>\n",
              "      <td>...</td>\n",
              "      <td>...</td>\n",
              "      <td>...</td>\n",
              "      <td>...</td>\n",
              "      <td>...</td>\n",
              "      <td>...</td>\n",
              "    </tr>\n",
              "    <tr>\n",
              "      <th>6556</th>\n",
              "      <td>Th</td>\n",
              "      <td>27</td>\n",
              "      <td>Na</td>\n",
              "      <td>3</td>\n",
              "      <td>PF6</td>\n",
              "      <td>2</td>\n",
              "      <td>48</td>\n",
              "      <td>32</td>\n",
              "      <td>0</td>\n",
              "      <td>216.329</td>\n",
              "      <td>...</td>\n",
              "      <td>264.624</td>\n",
              "      <td>-0.1871</td>\n",
              "      <td>-0.05755</td>\n",
              "      <td>0.0015</td>\n",
              "      <td>31.004</td>\n",
              "      <td>27.00</td>\n",
              "      <td>167.953948</td>\n",
              "      <td>0.623000</td>\n",
              "      <td>-0.104000</td>\n",
              "      <td>3.212072</td>\n",
              "    </tr>\n",
              "    <tr>\n",
              "      <th>6557</th>\n",
              "      <td>Th</td>\n",
              "      <td>27</td>\n",
              "      <td>Na</td>\n",
              "      <td>3</td>\n",
              "      <td>PF6</td>\n",
              "      <td>4</td>\n",
              "      <td>48</td>\n",
              "      <td>32</td>\n",
              "      <td>0</td>\n",
              "      <td>216.329</td>\n",
              "      <td>...</td>\n",
              "      <td>264.624</td>\n",
              "      <td>-0.1871</td>\n",
              "      <td>-0.05755</td>\n",
              "      <td>0.0015</td>\n",
              "      <td>31.004</td>\n",
              "      <td>27.00</td>\n",
              "      <td>167.953948</td>\n",
              "      <td>0.623000</td>\n",
              "      <td>-0.104000</td>\n",
              "      <td>3.318505</td>\n",
              "    </tr>\n",
              "    <tr>\n",
              "      <th>6558</th>\n",
              "      <td>Th</td>\n",
              "      <td>27</td>\n",
              "      <td>Na</td>\n",
              "      <td>3</td>\n",
              "      <td>TFSI</td>\n",
              "      <td>2</td>\n",
              "      <td>48</td>\n",
              "      <td>32</td>\n",
              "      <td>0</td>\n",
              "      <td>216.329</td>\n",
              "      <td>...</td>\n",
              "      <td>264.624</td>\n",
              "      <td>-0.1871</td>\n",
              "      <td>-0.05755</td>\n",
              "      <td>0.0015</td>\n",
              "      <td>41.076</td>\n",
              "      <td>51.87</td>\n",
              "      <td>303.138526</td>\n",
              "      <td>0.480290</td>\n",
              "      <td>-0.420675</td>\n",
              "      <td>2.393490</td>\n",
              "    </tr>\n",
              "    <tr>\n",
              "      <th>6559</th>\n",
              "      <td>Th</td>\n",
              "      <td>27</td>\n",
              "      <td>Na</td>\n",
              "      <td>3</td>\n",
              "      <td>TFSI</td>\n",
              "      <td>3</td>\n",
              "      <td>48</td>\n",
              "      <td>32</td>\n",
              "      <td>0</td>\n",
              "      <td>216.329</td>\n",
              "      <td>...</td>\n",
              "      <td>264.624</td>\n",
              "      <td>-0.1871</td>\n",
              "      <td>-0.05755</td>\n",
              "      <td>0.0015</td>\n",
              "      <td>41.076</td>\n",
              "      <td>51.87</td>\n",
              "      <td>303.138526</td>\n",
              "      <td>0.480290</td>\n",
              "      <td>-0.420675</td>\n",
              "      <td>2.478343</td>\n",
              "    </tr>\n",
              "    <tr>\n",
              "      <th>6560</th>\n",
              "      <td>Th</td>\n",
              "      <td>27</td>\n",
              "      <td>Na</td>\n",
              "      <td>3</td>\n",
              "      <td>TFSI</td>\n",
              "      <td>4</td>\n",
              "      <td>48</td>\n",
              "      <td>32</td>\n",
              "      <td>0</td>\n",
              "      <td>216.329</td>\n",
              "      <td>...</td>\n",
              "      <td>264.624</td>\n",
              "      <td>-0.1871</td>\n",
              "      <td>-0.05755</td>\n",
              "      <td>0.0015</td>\n",
              "      <td>41.076</td>\n",
              "      <td>51.87</td>\n",
              "      <td>303.138526</td>\n",
              "      <td>0.480290</td>\n",
              "      <td>-0.420675</td>\n",
              "      <td>2.571190</td>\n",
              "    </tr>\n",
              "  </tbody>\n",
              "</table>\n",
              "<p>6561 rows × 21 columns</p>\n",
              "</div>\n",
              "    <div class=\"colab-df-buttons\">\n",
              "\n",
              "  <div class=\"colab-df-container\">\n",
              "    <button class=\"colab-df-convert\" onclick=\"convertToInteractive('df-1607a5f4-9def-405b-860f-8d2c9c0ca881')\"\n",
              "            title=\"Convert this dataframe to an interactive table.\"\n",
              "            style=\"display:none;\">\n",
              "\n",
              "  <svg xmlns=\"http://www.w3.org/2000/svg\" height=\"24px\" viewBox=\"0 -960 960 960\">\n",
              "    <path d=\"M120-120v-720h720v720H120Zm60-500h600v-160H180v160Zm220 220h160v-160H400v160Zm0 220h160v-160H400v160ZM180-400h160v-160H180v160Zm440 0h160v-160H620v160ZM180-180h160v-160H180v160Zm440 0h160v-160H620v160Z\"/>\n",
              "  </svg>\n",
              "    </button>\n",
              "\n",
              "  <style>\n",
              "    .colab-df-container {\n",
              "      display:flex;\n",
              "      gap: 12px;\n",
              "    }\n",
              "\n",
              "    .colab-df-convert {\n",
              "      background-color: #E8F0FE;\n",
              "      border: none;\n",
              "      border-radius: 50%;\n",
              "      cursor: pointer;\n",
              "      display: none;\n",
              "      fill: #1967D2;\n",
              "      height: 32px;\n",
              "      padding: 0 0 0 0;\n",
              "      width: 32px;\n",
              "    }\n",
              "\n",
              "    .colab-df-convert:hover {\n",
              "      background-color: #E2EBFA;\n",
              "      box-shadow: 0px 1px 2px rgba(60, 64, 67, 0.3), 0px 1px 3px 1px rgba(60, 64, 67, 0.15);\n",
              "      fill: #174EA6;\n",
              "    }\n",
              "\n",
              "    .colab-df-buttons div {\n",
              "      margin-bottom: 4px;\n",
              "    }\n",
              "\n",
              "    [theme=dark] .colab-df-convert {\n",
              "      background-color: #3B4455;\n",
              "      fill: #D2E3FC;\n",
              "    }\n",
              "\n",
              "    [theme=dark] .colab-df-convert:hover {\n",
              "      background-color: #434B5C;\n",
              "      box-shadow: 0px 1px 3px 1px rgba(0, 0, 0, 0.15);\n",
              "      filter: drop-shadow(0px 1px 2px rgba(0, 0, 0, 0.3));\n",
              "      fill: #FFFFFF;\n",
              "    }\n",
              "  </style>\n",
              "\n",
              "    <script>\n",
              "      const buttonEl =\n",
              "        document.querySelector('#df-1607a5f4-9def-405b-860f-8d2c9c0ca881 button.colab-df-convert');\n",
              "      buttonEl.style.display =\n",
              "        google.colab.kernel.accessAllowed ? 'block' : 'none';\n",
              "\n",
              "      async function convertToInteractive(key) {\n",
              "        const element = document.querySelector('#df-1607a5f4-9def-405b-860f-8d2c9c0ca881');\n",
              "        const dataTable =\n",
              "          await google.colab.kernel.invokeFunction('convertToInteractive',\n",
              "                                                    [key], {});\n",
              "        if (!dataTable) return;\n",
              "\n",
              "        const docLinkHtml = 'Like what you see? Visit the ' +\n",
              "          '<a target=\"_blank\" href=https://colab.research.google.com/notebooks/data_table.ipynb>data table notebook</a>'\n",
              "          + ' to learn more about interactive tables.';\n",
              "        element.innerHTML = '';\n",
              "        dataTable['output_type'] = 'display_data';\n",
              "        await google.colab.output.renderOutput(dataTable, element);\n",
              "        const docLink = document.createElement('div');\n",
              "        docLink.innerHTML = docLinkHtml;\n",
              "        element.appendChild(docLink);\n",
              "      }\n",
              "    </script>\n",
              "  </div>\n",
              "\n",
              "\n",
              "    <div id=\"df-9f59b835-0579-468c-a952-40135b6ccab6\">\n",
              "      <button class=\"colab-df-quickchart\" onclick=\"quickchart('df-9f59b835-0579-468c-a952-40135b6ccab6')\"\n",
              "                title=\"Suggest charts\"\n",
              "                style=\"display:none;\">\n",
              "\n",
              "<svg xmlns=\"http://www.w3.org/2000/svg\" height=\"24px\"viewBox=\"0 0 24 24\"\n",
              "     width=\"24px\">\n",
              "    <g>\n",
              "        <path d=\"M19 3H5c-1.1 0-2 .9-2 2v14c0 1.1.9 2 2 2h14c1.1 0 2-.9 2-2V5c0-1.1-.9-2-2-2zM9 17H7v-7h2v7zm4 0h-2V7h2v10zm4 0h-2v-4h2v4z\"/>\n",
              "    </g>\n",
              "</svg>\n",
              "      </button>\n",
              "\n",
              "<style>\n",
              "  .colab-df-quickchart {\n",
              "      --bg-color: #E8F0FE;\n",
              "      --fill-color: #1967D2;\n",
              "      --hover-bg-color: #E2EBFA;\n",
              "      --hover-fill-color: #174EA6;\n",
              "      --disabled-fill-color: #AAA;\n",
              "      --disabled-bg-color: #DDD;\n",
              "  }\n",
              "\n",
              "  [theme=dark] .colab-df-quickchart {\n",
              "      --bg-color: #3B4455;\n",
              "      --fill-color: #D2E3FC;\n",
              "      --hover-bg-color: #434B5C;\n",
              "      --hover-fill-color: #FFFFFF;\n",
              "      --disabled-bg-color: #3B4455;\n",
              "      --disabled-fill-color: #666;\n",
              "  }\n",
              "\n",
              "  .colab-df-quickchart {\n",
              "    background-color: var(--bg-color);\n",
              "    border: none;\n",
              "    border-radius: 50%;\n",
              "    cursor: pointer;\n",
              "    display: none;\n",
              "    fill: var(--fill-color);\n",
              "    height: 32px;\n",
              "    padding: 0;\n",
              "    width: 32px;\n",
              "  }\n",
              "\n",
              "  .colab-df-quickchart:hover {\n",
              "    background-color: var(--hover-bg-color);\n",
              "    box-shadow: 0 1px 2px rgba(60, 64, 67, 0.3), 0 1px 3px 1px rgba(60, 64, 67, 0.15);\n",
              "    fill: var(--button-hover-fill-color);\n",
              "  }\n",
              "\n",
              "  .colab-df-quickchart-complete:disabled,\n",
              "  .colab-df-quickchart-complete:disabled:hover {\n",
              "    background-color: var(--disabled-bg-color);\n",
              "    fill: var(--disabled-fill-color);\n",
              "    box-shadow: none;\n",
              "  }\n",
              "\n",
              "  .colab-df-spinner {\n",
              "    border: 2px solid var(--fill-color);\n",
              "    border-color: transparent;\n",
              "    border-bottom-color: var(--fill-color);\n",
              "    animation:\n",
              "      spin 1s steps(1) infinite;\n",
              "  }\n",
              "\n",
              "  @keyframes spin {\n",
              "    0% {\n",
              "      border-color: transparent;\n",
              "      border-bottom-color: var(--fill-color);\n",
              "      border-left-color: var(--fill-color);\n",
              "    }\n",
              "    20% {\n",
              "      border-color: transparent;\n",
              "      border-left-color: var(--fill-color);\n",
              "      border-top-color: var(--fill-color);\n",
              "    }\n",
              "    30% {\n",
              "      border-color: transparent;\n",
              "      border-left-color: var(--fill-color);\n",
              "      border-top-color: var(--fill-color);\n",
              "      border-right-color: var(--fill-color);\n",
              "    }\n",
              "    40% {\n",
              "      border-color: transparent;\n",
              "      border-right-color: var(--fill-color);\n",
              "      border-top-color: var(--fill-color);\n",
              "    }\n",
              "    60% {\n",
              "      border-color: transparent;\n",
              "      border-right-color: var(--fill-color);\n",
              "    }\n",
              "    80% {\n",
              "      border-color: transparent;\n",
              "      border-right-color: var(--fill-color);\n",
              "      border-bottom-color: var(--fill-color);\n",
              "    }\n",
              "    90% {\n",
              "      border-color: transparent;\n",
              "      border-bottom-color: var(--fill-color);\n",
              "    }\n",
              "  }\n",
              "</style>\n",
              "\n",
              "      <script>\n",
              "        async function quickchart(key) {\n",
              "          const quickchartButtonEl =\n",
              "            document.querySelector('#' + key + ' button');\n",
              "          quickchartButtonEl.disabled = true;  // To prevent multiple clicks.\n",
              "          quickchartButtonEl.classList.add('colab-df-spinner');\n",
              "          try {\n",
              "            const charts = await google.colab.kernel.invokeFunction(\n",
              "                'suggestCharts', [key], {});\n",
              "          } catch (error) {\n",
              "            console.error('Error during call to suggestCharts:', error);\n",
              "          }\n",
              "          quickchartButtonEl.classList.remove('colab-df-spinner');\n",
              "          quickchartButtonEl.classList.add('colab-df-quickchart-complete');\n",
              "        }\n",
              "        (() => {\n",
              "          let quickchartButtonEl =\n",
              "            document.querySelector('#df-9f59b835-0579-468c-a952-40135b6ccab6 button');\n",
              "          quickchartButtonEl.style.display =\n",
              "            google.colab.kernel.accessAllowed ? 'block' : 'none';\n",
              "        })();\n",
              "      </script>\n",
              "    </div>\n",
              "\n",
              "  <div id=\"id_6281a436-e065-4d20-9b92-77881298fb0f\">\n",
              "    <style>\n",
              "      .colab-df-generate {\n",
              "        background-color: #E8F0FE;\n",
              "        border: none;\n",
              "        border-radius: 50%;\n",
              "        cursor: pointer;\n",
              "        display: none;\n",
              "        fill: #1967D2;\n",
              "        height: 32px;\n",
              "        padding: 0 0 0 0;\n",
              "        width: 32px;\n",
              "      }\n",
              "\n",
              "      .colab-df-generate:hover {\n",
              "        background-color: #E2EBFA;\n",
              "        box-shadow: 0px 1px 2px rgba(60, 64, 67, 0.3), 0px 1px 3px 1px rgba(60, 64, 67, 0.15);\n",
              "        fill: #174EA6;\n",
              "      }\n",
              "\n",
              "      [theme=dark] .colab-df-generate {\n",
              "        background-color: #3B4455;\n",
              "        fill: #D2E3FC;\n",
              "      }\n",
              "\n",
              "      [theme=dark] .colab-df-generate:hover {\n",
              "        background-color: #434B5C;\n",
              "        box-shadow: 0px 1px 3px 1px rgba(0, 0, 0, 0.15);\n",
              "        filter: drop-shadow(0px 1px 2px rgba(0, 0, 0, 0.3));\n",
              "        fill: #FFFFFF;\n",
              "      }\n",
              "    </style>\n",
              "    <button class=\"colab-df-generate\" onclick=\"generateWithVariable('unknown_df')\"\n",
              "            title=\"Generate code using this dataframe.\"\n",
              "            style=\"display:none;\">\n",
              "\n",
              "  <svg xmlns=\"http://www.w3.org/2000/svg\" height=\"24px\"viewBox=\"0 0 24 24\"\n",
              "       width=\"24px\">\n",
              "    <path d=\"M7,19H8.4L18.45,9,17,7.55,7,17.6ZM5,21V16.75L18.45,3.32a2,2,0,0,1,2.83,0l1.4,1.43a1.91,1.91,0,0,1,.58,1.4,1.91,1.91,0,0,1-.58,1.4L9.25,21ZM18.45,9,17,7.55Zm-12,3A5.31,5.31,0,0,0,4.9,8.1,5.31,5.31,0,0,0,1,6.5,5.31,5.31,0,0,0,4.9,4.9,5.31,5.31,0,0,0,6.5,1,5.31,5.31,0,0,0,8.1,4.9,5.31,5.31,0,0,0,12,6.5,5.46,5.46,0,0,0,6.5,12Z\"/>\n",
              "  </svg>\n",
              "    </button>\n",
              "    <script>\n",
              "      (() => {\n",
              "      const buttonEl =\n",
              "        document.querySelector('#id_6281a436-e065-4d20-9b92-77881298fb0f button.colab-df-generate');\n",
              "      buttonEl.style.display =\n",
              "        google.colab.kernel.accessAllowed ? 'block' : 'none';\n",
              "\n",
              "      buttonEl.onclick = () => {\n",
              "        google.colab.notebook.generateWithVariable('unknown_df');\n",
              "      }\n",
              "      })();\n",
              "    </script>\n",
              "  </div>\n",
              "\n",
              "    </div>\n",
              "  </div>\n"
            ],
            "application/vnd.google.colaboratory.intrinsic+json": {
              "type": "dataframe",
              "variable_name": "unknown_df"
            }
          },
          "metadata": {},
          "execution_count": 31
        }
      ]
    },
    {
      "cell_type": "markdown",
      "source": [
        "The DFT validation has been carried out on the systems belongs to unknown dataset and not present neither in train nor in test set"
      ],
      "metadata": {
        "id": "T8_jzRhx-W-U"
      }
    },
    {
      "cell_type": "code",
      "source": [],
      "metadata": {
        "id": "nHN8q3dQQvkL"
      },
      "execution_count": null,
      "outputs": []
    },
    {
      "cell_type": "code",
      "source": [],
      "metadata": {
        "id": "O4oG1gSXQvc8"
      },
      "execution_count": null,
      "outputs": []
    }
  ]
}